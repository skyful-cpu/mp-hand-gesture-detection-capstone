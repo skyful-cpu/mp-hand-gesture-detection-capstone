{
 "cells": [
  {
   "cell_type": "code",
   "execution_count": 8,
   "metadata": {},
   "outputs": [],
   "source": [
    "import cv2 as cv\n",
    "import numpy as np\n",
    "import mediapipe as mp\n",
    "import csv\n",
    "import os\n",
    "import time\n",
    "\n",
    "mp_hands = mp.solutions.hands\n",
    "mp_drawing = mp.solutions.drawing_utils\n",
    "mp_drawing_styles = mp.solutions.drawing_styles"
   ]
  },
  {
   "cell_type": "code",
   "execution_count": 17,
   "metadata": {},
   "outputs": [],
   "source": [
    "cap = cv.VideoCapture(0)\n",
    "f = open(\"landmark_data.csv\", \"w\", newline=\"\")\n",
    "wr = csv.writer(f)\n",
    "\n",
    "with mp_hands.Hands(\n",
    "    model_complexity=0,\n",
    "    max_num_hands=1,\n",
    "    min_detection_confidence=0.5,\n",
    "    min_tracking_confidence=0.5) as hands:\n",
    "\n",
    "    while cap.isOpened():\n",
    "        success, frame = cap.read()\n",
    "\n",
    "        if not success:\n",
    "            print(\"ignoring this frame\")\n",
    "\n",
    "        frame = cv.cvtColor(frame, cv.COLOR_BGR2RGB)\n",
    "        results = hands.process(frame)\n",
    "\n",
    "        if results.multi_hand_landmarks:\n",
    "\n",
    "            for hand_landmarks in results.multi_hand_landmarks:\n",
    "\n",
    "                mp_drawing.draw_landmarks(\n",
    "                    frame,\n",
    "                    hand_landmarks,\n",
    "                    mp_hands.HAND_CONNECTIONS,\n",
    "                    mp_drawing_styles.get_default_hand_landmarks_style(),\n",
    "                    mp_drawing_styles.get_default_hand_connections_style()\n",
    "                )\n",
    "\n",
    "                wr.writerow([\n",
    "                    round(hand_landmarks.landmark[4].x, 3), round(hand_landmarks.landmark[4].y, 3), round(hand_landmarks.landmark[4].z, 3),\n",
    "                    round(hand_landmarks.landmark[8].x, 3), round(hand_landmarks.landmark[8].y, 3), round(hand_landmarks.landmark[8].z, 3),\n",
    "                    round(hand_landmarks.landmark[12].x, 3), round(hand_landmarks.landmark[12].y, 3), round(hand_landmarks.landmark[12].z, 3),\n",
    "                    round(hand_landmarks.landmark[16].x, 3), round(hand_landmarks.landmark[16].y, 3), round(hand_landmarks.landmark[16].z, 3),\n",
    "                    round(hand_landmarks.landmark[20].x, 3), round(hand_landmarks.landmark[20].y, 3), round(hand_landmarks.landmark[20].z, 3),\n",
    "                    round(hand_landmarks.landmark[0].x, 3), round(hand_landmarks.landmark[0].y, 3), round(hand_landmarks.landmark[0].z, 3),\n",
    "                ])\n",
    "    \n",
    "        cv.imshow('landmark', frame)\n",
    "        time.sleep(0.2)\n",
    "\n",
    "        if cv.waitKey(1) == ord('q'):\n",
    "            break\n",
    "            \n",
    "cv.destroyAllWindows()\n",
    "cap.release()\n",
    "f.close()"
   ]
  }
 ],
 "metadata": {
  "kernelspec": {
   "display_name": "Python 3.9.12 ('base')",
   "language": "python",
   "name": "python3"
  },
  "language_info": {
   "codemirror_mode": {
    "name": "ipython",
    "version": 3
   },
   "file_extension": ".py",
   "mimetype": "text/x-python",
   "name": "python",
   "nbconvert_exporter": "python",
   "pygments_lexer": "ipython3",
   "version": "3.9.12"
  },
  "orig_nbformat": 4,
  "vscode": {
   "interpreter": {
    "hash": "16f5b46f222e2a3e8d4adbf7141cae37b71ed37616e60735fa5d1164a1bc3ada"
   }
  }
 },
 "nbformat": 4,
 "nbformat_minor": 2
}
